{
 "cells": [
  {
   "cell_type": "markdown",
   "metadata": {},
   "source": [
    "# Configure Python Path\n",
    "Add the `src/` folder to the Python path so that modules like `llm_interaction`, `validator`, or `utils` can be imported from the source directory."
   ]
  },
  {
   "cell_type": "code",
   "execution_count": 2,
   "metadata": {},
   "outputs": [],
   "source": [
    "import sys\n",
    "import os\n",
    "\n",
    "# Add the src directory to the Python path\n",
    "sys.path.append(os.path.abspath(os.path.join(os.getcwd(), \"..\", \"src\")))"
   ]
  },
  {
   "cell_type": "markdown",
   "metadata": {},
   "source": [
    "# Define or Load a Scenario\n",
    "Enter the scenario description that will be used aas input for the LLM. You can write it manually or load it from a `.txt` file."
   ]
  },
  {
   "cell_type": "code",
   "execution_count": 3,
   "metadata": {},
   "outputs": [],
   "source": [
    "# Option 1: Directly define the scenario (uncomment the next line and modify it)\n",
    "# scenario = \"Write your scenario here\"\n",
    "\n",
    "# Option 2: Load the scenario from a file\n",
    "from pathlib import Path\n",
    "\n",
    "scenario_path = Path(\"..\") / \"tasks\" / \"1.txt\"\n",
    "with open(scenario_path, \"r\", encoding=\"utf-8\") as file:\n",
    "    scenario = file.read()"
   ]
  },
  {
   "cell_type": "markdown",
   "metadata": {},
   "source": [
    "# Generate Prompt Context\n",
    "Use the scenario and selected protocols to retrieve relevant context from the database. This helps the LLM generate more accurate and aligned outputs."
   ]
  },
  {
   "cell_type": "markdown",
   "metadata": {},
   "source": [
    "Set the number of contextual examples to include in the prompt, and define the list of relevant protocols involved in the scenario."
   ]
  },
  {
   "cell_type": "code",
   "execution_count": 4,
   "metadata": {},
   "outputs": [],
   "source": [
    "number_examples = 1\n",
    "protocol_list = [\"ocpp\"]"
   ]
  },
  {
   "cell_type": "code",
   "execution_count": 5,
   "metadata": {},
   "outputs": [
    {
     "name": "stdout",
     "output_type": "stream",
     "text": [
      "\n",
      "You are an AI that generates XML properties for deep packet inspection.\n",
      "\n",
      "### MMT Property Context:\n",
      "XML Rules:\n",
      "- A <property> defines a security rule (SECURITY_RULE) or an attack rule (ATTACK).\n",
      "- Each property begins with a <property> tag and ends with </property>\n",
      "- A property is a \"general ordered tree\"\n",
      "- The nodes of the property tree are:\n",
      "  - <property> node (required)\n",
      "  - <operator> nodes (optional)\n",
      "  - <event> nodes (required)\n",
      "- The <property> node is forcibly the root node and the <event> nodes are forcibly leaf nodes.\n",
      "- The left branch represents the context and the right branch represents the trigger.\n",
      "- The property is found valid when the trigger is found valid; and the trigger is checked only if the context is valid.\n",
      "\n",
      "- <beginning> tag:\n",
      "  - Container tag for defining multiple properties\n",
      "  - Holds one or more <property> definitions\n",
      "  - Includes optional embedded functions.\n",
      "\n",
      "- A <property> tag contains:\n",
      "  - value (optional): THEN, defines the logical relationship between context and the trigger\n",
      "  - delay_min (optional), attribute sets a time constraint on when the trigger must occur relative to the context. A negative delay (-1) means the trigger must have occurred before the context. A zero delay (0) means the trigger must occur simultaneously with the context. A positive delay (+N) means the trigger must occur after the context.\n",
      "  - property_id (required): attribute uniquely identifies the property.\n",
      "  - description (required): Textual description of the property.\n",
      "  - if_satisfied, (optional) specifies an action to be executed when the property condition is met, through the reactive function.\n",
      "  - type_property (required) can be SECURITY_RULE, ATTACK, EVASION, or TEST\n",
      "\n",
      "- An <event> tag contains:\n",
      "  - value:COMPUTE, indicates that this event is evaluated based on a boolean expression.\n",
      "  - event_id, assigns a unique identifier to the event, allowing it to be referenced within the security property.\n",
      "  - description: Textual description of the event.\n",
      "  - boolean_expression, attribute that defines the conditions that determines when the event is triggered. Packet or message attributes are identified by <protocol_name>”.”<field_name>[“.”<event_id>]. Protocol_name is either BASE (containing packet metadata, e.g., protocol id, time slot of message) or the message/protocol identifier (e.g., SPHY_DATA_REQ, IP, TCP, UDP...). Field_name is the name of the attribute. Event_id allows identifying data captured when another event (identified using its id) of the property occurred. Expressions can use packet fields, protocol attributes, or embedded functions.\n",
      "\n",
      "- <embedded_functions> tag:\n",
      "  - Contains custom embedded logic (C functions) that can be used within the boolean_expression in <event> tags.\n",
      "  - One can either use existing embedded functions or implement a new function.\n",
      "  - They can be used in the boolean_expression by using the syntax #<name_of_function>(<list of parameters>)\n",
      "  - To avoid any confusion, a new embedded function name should start by a prefix em_\n",
      "  - Inside the tag, one can also implement 2 other functions as the followings:\n",
      "    - void on_load(){ ... } being called when the rules inside the xml file being loaded into MMT-Security\n",
      "    - void on_unload(){ ... } being called when exiting MMT-Security\n",
      "  - Note that, before using a C function the library containing that embedded functions need to be included. The following libraries have been pre-included:\n",
      "    -#include <string.h>\n",
      "    -#include <stdio.h>\n",
      "    -#include <stdlib.h>\n",
      "    -#include \"mmt_lib.h\"\n",
      "    -#include \"pre_embedded_functions.h\"\n",
      "\n",
      "- Reactive functions\n",
      "  - They allow user perform some action when a rule is satisfied. The functions will be called each time rules are satisfied.\n",
      "  - To implement and use a reactive function, one need to implement a C function inside <embedded_functions> tag, the function name should be prefixed by em_ to avoid confusion with the ones existing in MMT.\n",
      "  - The function has the following format:\n",
      "typedef void (*mmt_rule_satisfied_callback)(\n",
      "\t\tconst rule_t *rule,\t\t          //rule being validated\n",
      "\t\tint verdict,                     //DETECTED, NOT_RESPECTED\n",
      "\t\tuint64_t timestamp,              //moment (by time) the rule is validated\n",
      "\t\tuint64_t counter,                //moment (by order of message) the rule is validated\n",
      "\t\tconst mmt_array_t * const trace  //historic of messages that validates the rule\n",
      ");\n",
      "\n",
      "- In the XML file of a rule, if an attribute is absent then its value is set by default\n",
      "  - property, operator:\n",
      "    - value: COMPUTE (=> only one <event> is required. Thus delay_min and delay_max must be 0)\n",
      "    - delay_units: 0\n",
      "    - delay_max: 0\n",
      "\n",
      "## Scenario Description:\n",
      "The system under test consists of an electric vehicle charging station (evcs) that communicates\n",
      "with a central station management system (csms) using the open charge point protocol (ocpp).\n",
      "The charging station must correctly handle session initialization requests, send the appropriate ocpp\n",
      "messages, and respond to network failures according to protocol specifications.\n",
      "The generated XML should define expected message exchanges, time constraints, and error recovery\n",
      "mechanisms for ensuring compliance with ocpp-based communication, and message structure.\n",
      "\n",
      "Protocol: Open Charge Point Protocol (ocpp) 1.6\n",
      "Property: The charging station must initiate a charging session when it receives a valid charging request from a vehicle.\n",
      "\n",
      "Trigger: The charging station sends a BootNotification message to the Central System (CSMS) as defined in the OCPP protocol.\n",
      "- The BootNotification message contains metadata about the charging station, such as model, vendor, and firmware version.\n",
      "- The CSMS must process this message and determine if the station is authorized to initiate a session.\n",
      "\n",
      "Response:\n",
      "- The CSMS must respond with a BootNotificationResponse, including a status field (Accepted, Pending, or Rejected).\n",
      "- If the status is Accepted, the CSMS must send an Authorization request within 2 seconds to confirm the charging session start.\n",
      "\n",
      "Error Handling:\n",
      "- If the CSMS does not respond within 2 seconds, the charging station must retry sending the BootNotification message up to 3 times.\n",
      "- If the station does not receive a valid response after 3 retries, it must raise an alert event indicating a failed connection.\n",
      "- The alert must be logged and reported to the network monitoring system.\n",
      "\n",
      "## Protocol Context:\n",
      "Protocol: ocpp\n",
      "Attributes: ['message', 'type', 'id', 'action', 'payload']\n",
      "\n",
      "## Example XML Properties:\n",
      "### Example 1:\n",
      "**Description:** 5G DoS attack in the control plane: total number of InitialUEMessage is greater than the limit fixed by the MMT_SEC_5G_DOS_NGAP_INITIALUEMESSAGE_MS_LIMIT environment variable\n",
      "**Protocol(s):** ngap, sctp, ip\n",
      "**XML Property:**\n",
      "<beginning>\n",
      "\n",
      "<!--\n",
      "This rule detects whether 5G traffic in control plane overpasses the following limit:\n",
      "- total number of NGAP InitialUEMessage per millisecond >= MMT_SEC_5G_DOS_NGAP_INITIALUEMESSAGE_MS_LIMIT  \n",
      "\n",
      "Note: in the boolean_expression below, we use: \n",
      "- ngap.procedure_code == 15: indicate InitialUEMessage\n",
      "- sctp.dest_port == 38412  : focus on control plane (?)\n",
      "- ip.src != ip.dst         : this is mainly to print IP src and dest to alert reports\n",
      "-->\n",
      "\n",
      "\n",
      "\n",
      "<property value=\"THEN\" delay_units=\"ms\" delay_min=\"0\" delay_max=\"0\" property_id=\"95\" type_property=\"ATTACK\" \n",
      "    description=\"5G DoS attack in the control plane: total number of InitialUEMessage is greater than the limit fixed by the MMT_SEC_5G_DOS_NGAP_INITIALUEMESSAGE_MS_LIMIT environment variable\">\n",
      "    <event value=\"COMPUTE\" event_id=\"1\" \n",
      "        description=\"NGAP InitialUEMessage\"\n",
      "           boolean_expression=\"(( ngap.procedure_code == 15) &amp;&amp; ((sctp.dest_port == 38412) &amp;&amp;( ip.src != ip.dst )) )\"/>\n",
      "\n",
      "   <event value=\"COMPUTE\" event_id=\"2\" \n",
      "        description=\"Calculate total\"\n",
      "           boolean_expression=\"( #em_5g_check_msg_throughput( meta.utime ) )\"/>\n",
      "</property>\n",
      "\n",
      "<embedded_functions><![CDATA[\n",
      "#include <stdlib.h>\n",
      "#include <mmt_core.h>\n",
      "#include <tcpip/mmt_tcpip.h>\n",
      "#include<math.h>\n",
      "\n",
      "static unsigned long int limit_5g_dos_ngap_initialuemessage_per_ms = 0;\n",
      "\n",
      "void on_load(){\n",
      "\tconst char *str = getenv(\"MMT_SEC_5G_DOS_NGAP_INITIALUEMESSAGE_MS_LIMIT\");\n",
      "\tif( str == NULL ){\n",
      "\t\tmmt_info(\"Rule 95: no value of MMT_SEC_5G_DOS_NGAP_INITIALUEMESSAGE_MS_LIMIT\" );\n",
      "\t\treturn;\n",
      "\t}\n",
      "\tlimit_5g_dos_ngap_initialuemessage_per_ms = strtoul( str, NULL, 0 );\n",
      "\tmmt_info(\"Rule 95: set MMT_SEC_5G_DOS_NGAP_INITIALUEMESSAGE_MS_LIMIT=%ld\", \n",
      "\t\tlimit_5g_dos_ngap_initialuemessage_per_ms );\n",
      "}\n",
      "\n",
      "/*\n",
      "To detect DoS, we group the InitialUEMessage by windows of millissecond,\n",
      "that is, all messages having the same millisecond number will be in the same window.\n",
      "We then check the number of message in a window to ensure that it is less than the given limit. \n",
      "*/\n",
      "static inline bool em_5g_check_msg_throughput( const void *data ){\n",
      "\tstatic int last_ms = 0; //current ms window\n",
      "\tstatic unsigned long int counter = 0; //number of msg in the current ms window\n",
      "\t\n",
      "\tstruct timeval *time = (struct timeval *) data;\n",
      "\t// no limit\n",
      "\tif( limit_5g_dos_ngap_initialuemessage_per_ms == 0 )\n",
      "\t\treturn true;\n",
      "\n",
      "\tint millisecond = round( time->tv_usec / 1000.0 ); //microsecond to millisecond\n",
      "\t\n",
      "\t//new window => reset the counter\n",
      "\tif( last_ms != millisecond ){\n",
      "\t\tcounter = 0;\n",
      "\t\tlast_ms = millisecond;\n",
      "\t}\n",
      "\t\n",
      "\tcounter ++;\n",
      "\treturn (counter >= limit_5g_dos_ngap_initialuemessage_per_ms);\n",
      "}\n",
      "]]></embedded_functions>\n",
      "\n",
      "</beginning>\n",
      "\n",
      "\n",
      "### Task:\n",
      "Generate a new XML property that matches the scenario and adheres to the protocol(s) context.\n",
      "\n"
     ]
    }
   ],
   "source": [
    "from generate_prompt import generate_prompt\n",
    "\n",
    "prompt = generate_prompt(scenario=scenario, protocol_list=protocol_list, num_examples=number_examples)\n",
    "\n",
    "print(prompt)"
   ]
  },
  {
   "cell_type": "markdown",
   "metadata": {},
   "source": [
    "# Configure the LLM\n",
    "Set the model name and parameters that will be used to initialize the LLM, such as temperature, top-p, and max tokens."
   ]
  },
  {
   "cell_type": "markdown",
   "metadata": {},
   "source": [
    "Specify the LLM model (e.g., `gemma3:12b`) and its generation parameters such as temperature and top-p."
   ]
  },
  {
   "cell_type": "code",
   "execution_count": 6,
   "metadata": {},
   "outputs": [],
   "source": [
    "model_name = \"gemma3:12b\"\n",
    "model_config = {\"provider\": \"ollama\", \"temperature\": 0.7, \"top_p\": 0.9, \"max_tokens\": 1024}"
   ]
  },
  {
   "cell_type": "markdown",
   "metadata": {},
   "source": [
    "# Initialize the LLM\n",
    "Load and prepare the LLM model using the configuration specified above."
   ]
  },
  {
   "cell_type": "code",
   "execution_count": 7,
   "metadata": {},
   "outputs": [],
   "source": [
    "from llm_interaction import initialize_llm\n",
    "\n",
    "llm = initialize_llm(model_name=model_name, model_config=model_config)"
   ]
  },
  {
   "cell_type": "markdown",
   "metadata": {},
   "source": [
    "Define how many refinement attempts the LLM is allowed in case the output needs to be corrected based on validation feedback"
   ]
  },
  {
   "cell_type": "code",
   "execution_count": 8,
   "metadata": {},
   "outputs": [],
   "source": [
    "max_iterations = 5"
   ]
  },
  {
   "cell_type": "markdown",
   "metadata": {},
   "source": [
    "# Run the scenario\n",
    "Execute the full LLM interaction loop: generate a response, extract XML, validate it, and optionally refine it based on feedback."
   ]
  },
  {
   "cell_type": "code",
   "execution_count": 9,
   "metadata": {},
   "outputs": [
    {
     "name": "stdout",
     "output_type": "stream",
     "text": [
      "Iteration 1 of 5\n",
      "Invalid XML generated: Invalid type_property attribute in property tag\n",
      "Iteration 2 of 5\n",
      "Invalid XML generated: Invalid XML syntax\n",
      "Iteration 3 of 5\n",
      "Valid XML generated:\n",
      "<beginning>\n",
      "  <property value=\"THEN\" delay_units=\"ms\" delay_min=\"0\" delay_max=\"0\" property_id=\"101\" type_property=\"ATTACK\"\n",
      "             description=\"OCPP Charging Authorisation Request Timeout\">\n",
      "    <event value=\"COMPUTE\" event_id=\"1\"\n",
      "            description=\"Charging Authorisation Request\"\n",
      "            boolean_expression=\"(ocpp.messageType == 'ChargingAuthorisationRequest')\"/>\n",
      "    <event value=\"COMPUTE\" event_id=\"2\"\n",
      "            description=\"Timeout Detected\"\n",
      "            boolean_expression=\"(#em_ocpp_timeout_check(ocpp.timestamp))\"/>\n",
      "  </property>\n",
      "\n",
      "  <embedded_functions><![CDATA[\n",
      "#include <stdlib.h>\n",
      "#include <mmt_core.h>\n",
      "#include <tcpip/mmt_tcpip.h>\n",
      "#include <time.h>\n",
      "\n",
      "static unsigned long long timeout_threshold_ms = 5000; // Default timeout: 5 seconds\n",
      "\n",
      "void on_load() {\n",
      "  const char *str = getenv(\"OCPP_ChargingAuthorisationRequest_Timeout_MS\");\n",
      "  if (str != NULL) {\n",
      "    timeout_threshold_ms = strtoull(str, NULL, 0);\n",
      "    mmt_info(\"OCPP Charging Authorisation Request Timeout: set timeout to %llu ms\", timeout_threshold_ms);\n",
      "  } else {\n",
      "    mmt_info(\"OCPP Charging Authorisation Request Timeout: using default timeout of 5000 ms\");\n",
      "  }\n",
      "}\n",
      "\n",
      "static inline bool em_ocpp_timeout_check(const void *data) {\n",
      "    struct timeval *timestamp = (struct timeval *)data;\n",
      "    unsigned long long now = timestamp->tv_sec * 1000000 + timestamp->tv_usec;\n",
      "    // Simulate a timeout check.  In a real implementation, this would compare\n",
      "    // the timestamp to a record of when the request was sent.\n",
      "    // For this example, we just return true if the timestamp is greater than the threshold.\n",
      "    return (now > timeout_threshold_ms);\n",
      "}\n",
      "]]></embedded_functions>\n",
      "</beginning>\n",
      "Generated property:\n",
      "<beginning>\n",
      "  <property value=\"THEN\" delay_units=\"ms\" delay_min=\"0\" delay_max=\"0\" property_id=\"101\" type_property=\"ATTACK\"\n",
      "             description=\"OCPP Charging Authorisation Request Timeout\">\n",
      "    <event value=\"COMPUTE\" event_id=\"1\"\n",
      "            description=\"Charging Authorisation Request\"\n",
      "            boolean_expression=\"(ocpp.messageType == 'ChargingAuthorisationRequest')\"/>\n",
      "    <event value=\"COMPUTE\" event_id=\"2\"\n",
      "            description=\"Timeout Detected\"\n",
      "            boolean_expression=\"(#em_ocpp_timeout_check(ocpp.timestamp))\"/>\n",
      "  </property>\n",
      "\n",
      "  <embedded_functions><![CDATA[\n",
      "#include <stdlib.h>\n",
      "#include <mmt_core.h>\n",
      "#include <tcpip/mmt_tcpip.h>\n",
      "#include <time.h>\n",
      "\n",
      "static unsigned long long timeout_threshold_ms = 5000; // Default timeout: 5 seconds\n",
      "\n",
      "void on_load() {\n",
      "  const char *str = getenv(\"OCPP_ChargingAuthorisationRequest_Timeout_MS\");\n",
      "  if (str != NULL) {\n",
      "    timeout_threshold_ms = strtoull(str, NULL, 0);\n",
      "    mmt_info(\"OCPP Charging Authorisation Request Timeout: set timeout to %llu ms\", timeout_threshold_ms);\n",
      "  } else {\n",
      "    mmt_info(\"OCPP Charging Authorisation Request Timeout: using default timeout of 5000 ms\");\n",
      "  }\n",
      "}\n",
      "\n",
      "static inline bool em_ocpp_timeout_check(const void *data) {\n",
      "    struct timeval *timestamp = (struct timeval *)data;\n",
      "    unsigned long long now = timestamp->tv_sec * 1000000 + timestamp->tv_usec;\n",
      "    // Simulate a timeout check.  In a real implementation, this would compare\n",
      "    // the timestamp to a record of when the request was sent.\n",
      "    // For this example, we just return true if the timestamp is greater than the threshold.\n",
      "    return (now > timeout_threshold_ms);\n",
      "}\n",
      "]]></embedded_functions>\n",
      "</beginning>\n"
     ]
    }
   ],
   "source": [
    "from llm_interaction import generate_property\n",
    "generated_property, is_valid = generate_property(llm, prompt, max_iterations=max_iterations)\n",
    "if is_valid:\n",
    "    print(\"Generated property:\")\n",
    "    print(generated_property)\n",
    "else:\n",
    "    print(\"Failed to generate a valid property.\")"
   ]
  }
 ],
 "metadata": {
  "kernelspec": {
   "display_name": "venv",
   "language": "python",
   "name": "python3"
  },
  "language_info": {
   "codemirror_mode": {
    "name": "ipython",
    "version": 3
   },
   "file_extension": ".py",
   "mimetype": "text/x-python",
   "name": "python",
   "nbconvert_exporter": "python",
   "pygments_lexer": "ipython3",
   "version": "3.11.4"
  }
 },
 "nbformat": 4,
 "nbformat_minor": 2
}
